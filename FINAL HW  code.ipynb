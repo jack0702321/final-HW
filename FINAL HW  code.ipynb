{
 "cells": [
  {
   "cell_type": "code",
   "execution_count": 1,
   "metadata": {},
   "outputs": [],
   "source": [
    "from datetime import datetime\n",
    "from elasticsearch import Elasticsearch\n",
    "import matplotlib.pyplot as plt\n",
    "import pandas as pd\n",
    "import requests\n",
    "import time"
   ]
  },
  {
   "cell_type": "code",
   "execution_count": 2,
   "metadata": {},
   "outputs": [],
   "source": [
    "es_ip = \"http://127.0.0.1:9200/\""
   ]
  },
  {
   "cell_type": "code",
   "execution_count": 3,
   "metadata": {},
   "outputs": [],
   "source": [
    "es = Elasticsearch(es_ip)"
   ]
  },
  {
   "cell_type": "code",
   "execution_count": null,
   "metadata": {},
   "outputs": [],
   "source": [
    "# test to search data from winlogbeat"
   ]
  },
  {
   "cell_type": "code",
   "execution_count": 5,
   "metadata": {},
   "outputs": [
    {
     "name": "stdout",
     "output_type": "stream",
     "text": [
      "{'@timestamp': '2021-12-20T12:51:18.229Z', 'ecs': {'version': '1.9.0'}, 'agent': {'type': 'winlogbeat', 'version': '7.13.2', 'hostname': 'DESKTOP-T3V8EOP', 'ephemeral_id': '41f4d791-f3b8-47ed-b193-c7151f023406', 'id': '621af60c-6ab1-4b77-803e-d523c7d8ec04', 'name': 'DESKTOP-T3V8EOP'}, 'event': {'created': '2021-12-20T12:51:20.151Z', 'code': '1', 'kind': 'event', 'provider': 'Microsoft-Windows-Sysmon', 'timezone': '+08:00'}, 'log': {'level': 'information'}, 'host': {'architecture': 'x86_64', 'os': {'name': 'Windows 10 Pro', 'kernel': '10.0.22000.318 (WinBuild.160101.0800)', 'build': '22000.318', 'type': 'windows', 'platform': 'windows', 'version': '10.0', 'family': 'windows'}, 'id': '1f725ed7-b14c-494d-9fc1-4bc3eeb0b29b', 'ip': ['fe80::1911:e65c:d649:9768', '192.168.56.1', 'fe80::24c3:baf3:3d58:f2af', '169.254.242.175', 'fe80::a832:f35:3de:862c', '169.254.134.44', 'fe80::d4a8:14f8:2744:a74a', '192.168.0.83', 'fe80::4d6b:1d3e:cee1:343d', '169.254.52.61'], 'name': 'DESKTOP-T3V8EOP', 'mac': ['0a:00:27:00:00:10', '24:ee:9a:ff:17:da', '26:ee:9a:ff:17:d9', '24:ee:9a:ff:17:d9', '24:ee:9a:ff:17:dd'], 'hostname': 'DESKTOP-T3V8EOP'}, 'winlog': {'event_id': '1', 'user': {'identifier': 'S-1-5-18', 'domain': 'NT AUTHORITY', 'name': 'SYSTEM', 'type': 'User'}, 'event_data': {'ProcessGuid': '{1f725ed7-7c46-61c0-361b-938100000000}', 'Company': 'Rivet Networks LLC', 'LogonId': '0x6ba12a0f', 'TerminalSessionId': '2', 'IntegrityLevel': 'Medium', 'Hashes': 'MD5=F70A23758DA94B90A01CC791ACC7F385,SHA256=EEBCC0C6FD9A7BF70BA3028DAEA19C450FCC698169C2E5B03F6BEF9D4BBA1A6F,IMPHASH=935B686812E8D4246E2278AF50AA30FB', 'ParentProcessId': '5312', 'ParentCommandLine': '\"RAPS.exe\"', 'UtcTime': '2021-12-20 12:51:18.228', 'FileVersion': '3.1.995.0', 'ProcessId': '13720', 'OriginalFileName': 'RAPS.exe', 'User': 'DESKTOP-T3V8EOP\\\\a3789', 'CommandLine': 'RAPS.exe -u', 'CurrentDirectory': 'C:\\\\Program Files\\\\Rivet Networks\\\\SmartByte\\\\', 'ParentImage': 'C:\\\\Program Files\\\\Rivet Networks\\\\SmartByte\\\\RAPS.exe', 'Description': 'RivetAPS', 'LogonGuid': '{1f725ed7-4242-61bc-0f2a-a16b00000000}', 'ParentProcessGuid': '{1f725ed7-296e-61ab-8f00-000000000d00}', 'RuleName': '-', 'Image': 'C:\\\\Program Files\\\\Rivet Networks\\\\SmartByte\\\\RAPS.exe', 'Product': 'RivetAPS'}, 'version': 5, 'api': 'wineventlog', 'channel': 'Microsoft-Windows-Sysmon/Operational', 'provider_name': 'Microsoft-Windows-Sysmon', 'record_id': 496, 'computer_name': 'DESKTOP-T3V8EOP', 'provider_guid': '{5770385f-c22a-43e0-bf4c-06f5698ffbd9}', 'process': {'thread': {'id': 26096}, 'pid': 53848}}, 'fields': {'endpoint_email': 'a3789468739@gmail.com', 'endpoint_org3': 'T7-1639616151642', 'endpoint_project': 'df909038f4bcafd88f8d49c7f6ad5ccd'}}\n"
     ]
    }
   ],
   "source": [
    "res = es.get(index=\"winlogbeat\", id=\"K83l130BMs_nTerjfMVt\")\n",
    "print(res['_source'])"
   ]
  },
  {
   "cell_type": "code",
   "execution_count": null,
   "metadata": {},
   "outputs": [],
   "source": [
    "# Show Event Count by computer_name"
   ]
  },
  {
   "cell_type": "code",
   "execution_count": 10,
   "metadata": {},
   "outputs": [
    {
     "name": "stderr",
     "output_type": "stream",
     "text": [
      "C:\\Users\\s2569\\AppData\\Local\\Temp/ipykernel_5348/292756096.py:2: DeprecationWarning: The 'body' parameter is deprecated for the 'search' API and will be removed in a future version. Instead use API parameters directly. See https://github.com/elastic/elasticsearch-py/issues/1698 for more information\n",
      "  res = es.search(index=\"winlogbeat\", body=query_str)\n"
     ]
    }
   ],
   "source": [
    "query_str = {\"size\": 0,\"aggregations\": {\"result\": {\"terms\": {\"field\": \"winlog.computer_name.keyword\",\"order\": [{\"_count\": \"desc\"}]}}}}\n",
    "res = es.search(index=\"winlogbeat\", body=query_str)\n",
    "result = res[\"aggregations\"][\"result\"][\"buckets\"]"
   ]
  },
  {
   "cell_type": "code",
   "execution_count": 12,
   "metadata": {},
   "outputs": [
    {
     "data": {
      "text/plain": [
       "Text(0.5, 1.0, 'Computer Logs')"
      ]
     },
     "execution_count": 12,
     "metadata": {},
     "output_type": "execute_result"
    },
    {
     "data": {
      "image/png": "[encoded data removed]",
      "text/plain": [
       "<Figure size 432x288 with 1 Axes>"
      ]
     },
     "metadata": {
      "needs_background": "light"
     },
     "output_type": "display_data"
    }
   ],
   "source": [
    "computer_pd = pd.DataFrame(result, columns=[\"key\", \"doc_count\"])\n",
    "#print(event_pd)\n",
    "computer_pd.plot(x=\"key\", y=\"doc_count\", kind=\"bar\");\n",
    "plt.xlabel('Computer ID')\n",
    "plt.ylabel('Log Count')\n",
    "plt.title('Computer Logs')"
   ]
  }
 ],
 "metadata": {
  "interpreter": {
   "hash": "987eb6ba67314cb883974be40b34b3ce5b0a09871bc7d78ca536684d9ead5470"
  },
  "kernelspec": {
   "display_name": "Python 3.10.1 64-bit",
   "language": "python",
   "name": "python3"
  },
  "language_info": {
   "codemirror_mode": {
    "name": "ipython",
    "version": 3
   },
   "file_extension": ".py",
   "mimetype": "text/x-python",
   "name": "python",
   "nbconvert_exporter": "python",
   "pygments_lexer": "ipython3",
   "version": "3.10.1"
  },
  "orig_nbformat": 4
 },
 "nbformat": 4,
 "nbformat_minor": 2
}
